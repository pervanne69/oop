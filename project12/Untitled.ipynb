{
 "cells": [
  {
   "cell_type": "code",
   "execution_count": 69,
   "id": "57ff0f5d-ec02-4981-916e-a3098fd44159",
   "metadata": {},
   "outputs": [],
   "source": [
    "from collections import Counter\n",
    "import unicodedata"
   ]
  },
  {
   "cell_type": "code",
   "execution_count": 70,
   "id": "9e87cc4d-f34b-4e44-b370-edea1a277150",
   "metadata": {},
   "outputs": [],
   "source": [
    "#1. Откройте файл text.txt. Определите, что в нём записано.\n",
    "with open('text.txt', 'r', encoding='utf-8') as file:\n",
    "    text = file.read()"
   ]
  },
  {
   "cell_type": "code",
   "execution_count": 71,
   "id": "4babde78-0879-4b97-b36d-f7efec76cc76",
   "metadata": {},
   "outputs": [
    {
     "name": "stdout",
     "output_type": "stream",
     "text": [
      "5 most used words in the text: [('и', 10243), ('–', 8749), ('в', 5365), ('не', 4541), ('что', 3513)]\n",
      "5 least used Russian words: [('сладость', 1), ('уединения', 1), ('примечания', 1), ('ободренной', 1), ('расцветшей', 1)]\n"
     ]
    }
   ],
   "source": [
    "# 2.1. 5 самых употребляемых слов в тексте;\n",
    "# 2.2. 5 наименее употребляемых русских слов;\n",
    "\n",
    "words = text.lower().split()\n",
    "word_counts = Counter(words)\n",
    "top_5_common_words = word_counts.most_common(5)\n",
    "print(\"5 most used words in the text:\", top_5_common_words)\n",
    "\n",
    "\n",
    "russian_words = [w for w in words if all('а' <= l <= 'я' for l in w)]\n",
    "russian_word_counts = Counter(russian_words)\n",
    "bottom_5_russian_words = russian_word_counts.most_common()[:-6:-1]\n",
    "print(\"5 least used Russian words:\", bottom_5_russian_words)"
   ]
  },
  {
   "cell_type": "code",
   "execution_count": 72,
   "id": "f7d788e5-86e3-424c-8d40-5579266cfd3c",
   "metadata": {},
   "outputs": [
    {
     "name": "stdout",
     "output_type": "stream",
     "text": [
      "5 most common French words:\n",
      "de: 331\n",
      "que: 168\n",
      "et: 165\n",
      "le: 160\n",
      "vous: 156\n",
      "5 least used French words:\n",
      "Comoneno: 1\n",
      "Joseph: 1\n",
      "absence: 1\n",
      "alliez: 1\n",
      "raison: 1\n"
     ]
    }
   ],
   "source": [
    "from collections import Counter\n",
    "import unicodedata\n",
    "\n",
    "french_l = 'abcdefghijklmnopqrstuvwxyzàâçéèêëîïôûùüÿœæ'\n",
    "\n",
    "# 2.3. 5 самых употребляемых французских слов (все символы в кодировке\n",
    "# HTML должны быть переведены в Unicode и выводиться корректно);\n",
    "# 2.4. 5 наименее употребляемых французских слов (все символы в кодировке\n",
    "# HTML должны быть переведены в Unicode и выводиться корректно).\n",
    "\n",
    "\n",
    "def is_french_word(word_req: str) -> bool:\n",
    "    \"\"\"\n",
    "    This function checks if a word is French\n",
    "    :param word_req:\n",
    "    :return:\n",
    "    \"\"\"\n",
    "    for char in word_req:\n",
    "        if not char.isalpha():\n",
    "            return False\n",
    "        if char.lower() not in french_l:\n",
    "            return False\n",
    "    return True\n",
    "\n",
    "\n",
    "def get_french_words(text_req: str):\n",
    "    \"\"\"\n",
    "    This function searches for most frequently occurring French words\n",
    "    :param text_req: (str) our requested text\n",
    "    :return list[tuple[str, int]]: the top french words\n",
    "    \"\"\"\n",
    "\n",
    "    words = text_req.split()\n",
    "    french_words = [\n",
    "        unicodedata.normalize('NFKD', w).encode('ASCII', 'ignore').decode(\n",
    "            'utf-8') for w in words if is_french_word(w)]\n",
    "\n",
    "    word_counts = Counter(french_words)\n",
    "\n",
    "    top_french_words = word_counts.most_common(5)\n",
    "    bottom_french_words = word_counts.most_common()[:-6:-1]\n",
    "    return [top_french_words, bottom_french_words]\n",
    "\n",
    "file = open(\"text.txt\", \"r\", encoding=\"utf-8\")\n",
    "text = file.read()\n",
    "top_words, bottom_words = get_french_words(text)\n",
    "print(\"5 most common French words:\")\n",
    "for word, count in top_words:\n",
    "    print(f\"{word}: {count}\")\n",
    "print(\"5 least used French words:\")\n",
    "for word, count in bottom_words:\n",
    "    print(f\"{word}: {count}\")\n",
    "file.close()\n"
   ]
  },
  {
   "cell_type": "code",
   "execution_count": 73,
   "id": "b17561d1-6048-4e68-87f2-06da03878500",
   "metadata": {},
   "outputs": [
    {
     "name": "stdout",
     "output_type": "stream",
     "text": [
      "Пример использования именованного кортежа для русских слов:\n",
      "RussianWord(word='сладость', count=1)\n",
      "RussianWord(word='уединения', count=1)\n",
      "RussianWord(word='примечания', count=1)\n",
      "RussianWord(word='ободренной', count=1)\n",
      "RussianWord(word='расцветшей', count=1)\n",
      "Пример использования именованного кортежа для французских слов:\n",
      "FrenchWord(word='de', count=331)\n",
      "FrenchWord(word='que', count=168)\n",
      "FrenchWord(word='et', count=165)\n",
      "FrenchWord(word='le', count=160)\n",
      "FrenchWord(word='vous', count=156)\n",
      "Обычный словарь: {'a': 1, 'b': 2, 'c': 3}\n",
      "OrderedDict: OrderedDict([('a', 1), ('b', 2), ('c', 3)])\n",
      "defaultdict: defaultdict(<class 'int'>, {'a': 1, 'b': 1})\n",
      "UserDict: {'a': 1, 'b': 2, 'c': 3}\n"
     ]
    }
   ],
   "source": [
    "from collections import namedtuple, OrderedDict, defaultdict, UserDict\n",
    "\n",
    "# 3. Создаём именованные кортежи для русских и французских слов\n",
    "# Именованные кортежи позволяют \n",
    "# создавать типизированные структуры данных,\n",
    "# где каждый элемент имеет своё имя.\n",
    "# Они удобны для хранения записей с фиксированным набором полей.\n",
    "RussianWord = namedtuple('RussianWord', ['word', 'count'])\n",
    "FrenchWord = namedtuple('FrenchWord', ['word', 'count'])\n",
    "\n",
    "# Пример использования именованного кортежа:\n",
    "print(\"Пример использования именованного кортежа для русских слов:\")\n",
    "for word, count in bottom_5_russian_words:\n",
    "    russian_word = RussianWord(word=word, count=count)\n",
    "    print(russian_word)\n",
    "\n",
    "print(\"Пример использования именованного кортежа для французских слов:\")\n",
    "for word, count in top_words:\n",
    "    french_word = FrenchWord(word=word, count=count)\n",
    "    print(french_word)\n",
    "\n",
    "\n",
    "# 4. Сравнение типов данных словарей\n",
    "# Обычный словарь\n",
    "normal_dict = {'a': 1, 'b': 2, 'c': 3}\n",
    "\n",
    "# OrderedDict - сохраняет порядок элементов в том порядке, \n",
    "# в котором они были добавлены.\n",
    "ordered_dict = OrderedDict([('a', 1), ('b', 2), ('c', 3)])\n",
    "\n",
    "# defaultdict - автоматически создаёт \n",
    "# новое значение, если ключ отсутствует.\n",
    "default_dict = defaultdict(int)\n",
    "default_dict['a'] = 1\n",
    "default_dict['b'] += 1\n",
    "\n",
    "# UserDict - обёртка над обычным \n",
    "# словарём для удобного доступа к элементам.\n",
    "user_dict = UserDict({'a': 1, 'b': 2, 'c': 3})\n",
    "\n",
    "# Демонстрация различий между типами словарей\n",
    "print(\"Обычный словарь:\", normal_dict)\n",
    "print(\"OrderedDict:\", ordered_dict)\n",
    "print(\"defaultdict:\", default_dict)\n",
    "print(\"UserDict:\", user_dict)\n"
   ]
  }
 ],
 "metadata": {
  "kernelspec": {
   "display_name": "Python 3 (ipykernel)",
   "language": "python",
   "name": "python3"
  },
  "language_info": {
   "codemirror_mode": {
    "name": "ipython",
    "version": 3
   },
   "file_extension": ".py",
   "mimetype": "text/x-python",
   "name": "python",
   "nbconvert_exporter": "python",
   "pygments_lexer": "ipython3",
   "version": "3.11.7"
  }
 },
 "nbformat": 4,
 "nbformat_minor": 5
}
