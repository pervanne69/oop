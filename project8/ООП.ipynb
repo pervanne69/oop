{
 "cells": [
  {
   "cell_type": "code",
   "execution_count": 16,
   "id": "97d745d8-3aed-4b9e-9a9e-e6537d492c04",
   "metadata": {},
   "outputs": [
    {
     "name": "stdout",
     "output_type": "stream",
     "text": [
      "Initial array: \n",
      "[[1 0 1 7 8]\n",
      " [8 9 5 1 0]\n",
      " [1 7 3 6 1]\n",
      " [1 6 7 7 4]\n",
      " [7 4 6 3 5]]\n",
      "Sorted array: \n",
      "[[1 0 1 7 8]\n",
      " [1 7 3 6 1]\n",
      " [8 9 5 1 0]\n",
      " [7 4 6 3 5]\n",
      " [1 6 7 7 4]]\n"
     ]
    }
   ],
   "source": [
    "import numpy as np\n",
    "import random\n",
    "np_arr = np.random.randint(0,10,(5, 5))\n",
    "n = 2  \n",
    "print(f\"Initial array: \\n{np_arr}\")\n",
    "print(f\"Sorted array: \\n{np_arr[np_arr[:,n].argsort()]}\")"
   ]
  },
  {
   "cell_type": "code",
   "execution_count": 8,
   "id": "5734cddc-9efc-4233-8be1-26491a82701e",
   "metadata": {},
   "outputs": [
    {
     "name": "stdout",
     "output_type": "stream",
     "text": [
      "[[0.36787944 0.44822088 0.51979489 0.57375342 0.60279818 0.60279818\n",
      "  0.57375342 0.51979489 0.44822088 0.36787944]\n",
      " [0.44822088 0.54610814 0.63331324 0.69905581 0.73444367 0.73444367\n",
      "  0.69905581 0.63331324 0.54610814 0.44822088]\n",
      " [0.51979489 0.63331324 0.73444367 0.81068432 0.85172308 0.85172308\n",
      "  0.81068432 0.73444367 0.63331324 0.51979489]\n",
      " [0.57375342 0.69905581 0.81068432 0.89483932 0.9401382  0.9401382\n",
      "  0.89483932 0.81068432 0.69905581 0.57375342]\n",
      " [0.60279818 0.73444367 0.85172308 0.9401382  0.98773022 0.98773022\n",
      "  0.9401382  0.85172308 0.73444367 0.60279818]\n",
      " [0.60279818 0.73444367 0.85172308 0.9401382  0.98773022 0.98773022\n",
      "  0.9401382  0.85172308 0.73444367 0.60279818]\n",
      " [0.57375342 0.69905581 0.81068432 0.89483932 0.9401382  0.9401382\n",
      "  0.89483932 0.81068432 0.69905581 0.57375342]\n",
      " [0.51979489 0.63331324 0.73444367 0.81068432 0.85172308 0.85172308\n",
      "  0.81068432 0.73444367 0.63331324 0.51979489]\n",
      " [0.44822088 0.54610814 0.63331324 0.69905581 0.73444367 0.73444367\n",
      "  0.69905581 0.63331324 0.54610814 0.44822088]\n",
      " [0.36787944 0.44822088 0.51979489 0.57375342 0.60279818 0.60279818\n",
      "  0.57375342 0.51979489 0.44822088 0.36787944]]\n"
     ]
    }
   ],
   "source": [
    "X, Y = np.meshgrid(np.linspace(-1,1,10), np.linspace(-1,1,10))\n",
    "D = np.hypot(X, Y)\n",
    "sigma, mu = 1.0, 0.0\n",
    "G = np.exp(-((D - mu) ** 2 / (2.0 * sigma ** 2)))\n",
    "print(G)"
   ]
  },
  {
   "cell_type": "code",
   "execution_count": 9,
   "id": "df7b4e9b-f958-42ff-973f-13f0e7243538",
   "metadata": {},
   "outputs": [
    {
     "name": "stdout",
     "output_type": "stream",
     "text": [
      "[ 0  1  2  3  4  5  6  7  8  9 10 11 12 13 14 15 16 17 18 19]\n",
      "[  0   1   2   3   4   5   6   7   8  -9 -10 -11 -12 -13 -14 -15  16  17\n",
      "  18  19]\n"
     ]
    }
   ],
   "source": [
    "np_arr = np.arange(20)\n",
    "print(np_arr)\n",
    "np_arr[(9 <= np_arr) & (np_arr <= 15)] *= -1\n",
    "print(np_arr)"
   ]
  },
  {
   "cell_type": "raw",
   "id": "b9be8df2-6c68-4ce4-bc74-00e4d0fe36cd",
   "metadata": {},
   "source": [
    "np_arr = np.random.randint(0, 30, (5, 5))\n",
    "\n",
    "print(np_arr)"
   ]
  },
  {
   "cell_type": "code",
   "execution_count": 14,
   "id": "24f8c315-bc7f-4d6f-8fc1-d7e17ed69e84",
   "metadata": {},
   "outputs": [
    {
     "name": "stdout",
     "output_type": "stream",
     "text": [
      "[[ 9  3 12  9  0]\n",
      " [ 7 14  1 29 28]\n",
      " [10 19 23  9 27]\n",
      " [ 9 17  3  5 12]\n",
      " [25  2 24  4 11]]\n",
      "[[12  9]\n",
      " [ 1 29]]\n"
     ]
    }
   ],
   "source": [
    "np_arr = np.random.randint(0, 30, (5, 5))\n",
    "\n",
    "print(np_arr)\n",
    "\n",
    "np_arr_new = np.array([[np_arr[0][2], np_arr[0][3]], [np_arr[1][2], np_arr[1][3]]])\n",
    "\n",
    "print(np_arr_new)"
   ]
  },
  {
   "cell_type": "code",
   "execution_count": 17,
   "id": "37da043f-782c-4d89-abee-0cd75048618a",
   "metadata": {},
   "outputs": [
    {
     "name": "stdout",
     "output_type": "stream",
     "text": [
      "[[ 0  1  2  9  5]\n",
      " [10 13  8  6  4]\n",
      " [ 4 15  5  3 15]\n",
      " [ 0  5  2 12 18]\n",
      " [ 8 14 14 11  4]]\n"
     ]
    },
    {
     "ename": "ValueError",
     "evalue": "cannot convert float NaN to integer",
     "output_type": "error",
     "traceback": [
      "\u001b[1;31m---------------------------------------------------------------------------\u001b[0m",
      "\u001b[1;31mValueError\u001b[0m                                Traceback (most recent call last)",
      "Cell \u001b[1;32mIn[17], line 9\u001b[0m\n\u001b[0;32m      7\u001b[0m         a \u001b[38;5;241m=\u001b[39m random\u001b[38;5;241m.\u001b[39mrandint(\u001b[38;5;241m0\u001b[39m, \u001b[38;5;241m20\u001b[39m)\n\u001b[0;32m      8\u001b[0m         \u001b[38;5;28;01mif\u001b[39;00m np_arr[i][j] \u001b[38;5;241m==\u001b[39m a:\n\u001b[1;32m----> 9\u001b[0m             \u001b[43mnp_arr\u001b[49m\u001b[43m[\u001b[49m\u001b[43mi\u001b[49m\u001b[43m]\u001b[49m\u001b[43m[\u001b[49m\u001b[43mj\u001b[49m\u001b[43m]\u001b[49m \u001b[38;5;241m=\u001b[39m np\u001b[38;5;241m.\u001b[39mnan\n\u001b[0;32m     10\u001b[0m \u001b[38;5;28mprint\u001b[39m(np_arr)\n",
      "\u001b[1;31mValueError\u001b[0m: cannot convert float NaN to integer"
     ]
    }
   ],
   "source": [
    "np_arr = np.random.randint(0, 20, (5, 5))\n",
    "\n",
    "print(np_arr)\n",
    "print(np.nan)\n",
    "for i in range(5):\n",
    "    for j in range(5):\n",
    "        a = random.randint(0, 20)\n",
    "        if np_arr[i][j] == a:\n",
    "            np_arr[i][j] = np.nan\n",
    "print(np_arr)\n",
    "    \n"
   ]
  },
  {
   "cell_type": "code",
   "execution_count": null,
   "id": "92adb98f-2ddf-494a-a9e4-27938134e61c",
   "metadata": {},
   "outputs": [],
   "source": []
  }
 ],
 "metadata": {
  "kernelspec": {
   "display_name": "Python 3 (ipykernel)",
   "language": "python",
   "name": "python3"
  },
  "language_info": {
   "codemirror_mode": {
    "name": "ipython",
    "version": 3
   },
   "file_extension": ".py",
   "mimetype": "text/x-python",
   "name": "python",
   "nbconvert_exporter": "python",
   "pygments_lexer": "ipython3",
   "version": "3.10.2"
  }
 },
 "nbformat": 4,
 "nbformat_minor": 5
}
